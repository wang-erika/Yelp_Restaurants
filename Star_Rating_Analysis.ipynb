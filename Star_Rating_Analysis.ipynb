{
 "cells": [
  {
   "cell_type": "markdown",
   "metadata": {},
   "source": [
    "Star Rating Analysis\n"
   ]
  },
  {
   "cell_type": "code",
   "execution_count": null,
   "metadata": {},
   "outputs": [],
   "source": [
    "# Run but do not modify this code\n",
    "import pandas as pd\n",
    "business = pd.read_csv(\"yelp_business.csv\", encoding= 'unicode_escape')\n",
    "business.head()"
   ]
  },
  {
   "cell_type": "code",
   "execution_count": null,
   "metadata": {},
   "outputs": [],
   "source": [
    "# Run but do not modify this code\n",
    "\n",
    "import seaborn as sns\n",
    "sns.set_theme()\n",
    "review = pd.read_csv(\"yelp_reviews.csv\", encoding= 'unicode_escape')\n",
    "review.head()"
   ]
  },
  {
   "cell_type": "markdown",
   "metadata": {},
   "source": []
  },
  {
   "cell_type": "code",
   "execution_count": null,
   "metadata": {
    "scrolled": true,
    "tags": []
   },
   "outputs": [],
   "source": [
    "merged = business.merge(review, left_on='business_id', right_on='business_id')\n",
    "merged = merged[merged['categories'].str.contains(\"Food, Restaurants\", na = False)]\n",
    "merged['year'] = pd.DatetimeIndex(merged['date']).year\n",
    "asian = merged[merged['categories'].str.contains(\"Asian\")]"
   ]
  },
  {
   "cell_type": "markdown",
   "metadata": {},
   "source": [
    "Indian, Thai, Italian, Mexican, Chinese"
   ]
  },
  {
   "cell_type": "code",
   "execution_count": null,
   "metadata": {},
   "outputs": [],
   "source": [
    "indian = merged[merged['categories'].str.contains(\"Indian\")]\n",
    "thai = merged[merged['categories'].str.contains(\"Thai\")]\n",
    "italian = merged[merged['categories'].str.contains(\"Italian\")]\n",
    "mexican = merged[merged['categories'].str.contains(\"Mexican\")]\n",
    "chinese = merged[merged['categories'].str.contains(\"Chinese\")]"
   ]
  },
  {
   "cell_type": "code",
   "execution_count": null,
   "metadata": {
    "tags": []
   },
   "outputs": [],
   "source": [
    "import matplotlib.pyplot as plt\n",
    "\n",
    "starRank = merged['stars_y'].value_counts().sort_index(ascending=False)\n",
    "starRank = (starRank/(len(merged)))*100\n",
    "print(starRank)\n",
    "\n",
    "\n",
    "\n",
    "indianStar = indian['stars_y'].value_counts().sort_index(ascending=False).apply(lambda x : x / len(indian)*100)\n",
    "thaiStar = thai['stars_y'].value_counts().sort_index(ascending=False).apply(lambda x : x / len(thai)*100)\n",
    "italianStar = italian['stars_y'].value_counts().sort_index(ascending=False).apply(lambda x : x / len(italian)*100)\n",
    "mexicanStar = mexican['stars_y'].value_counts().sort_index(ascending=False).apply(lambda x : x / len(mexican)*100)\n",
    "chineseStar = chinese['stars_y'].value_counts().sort_index(ascending=False).apply(lambda x : x / len(chinese)*100)\n",
    "print(indianStar)\n",
    "\n",
    "star_graph = pd.concat([indianStar.rename('Indian'), thaiStar.rename('Thai'), italianStar.rename('Italian'),\n",
    "          mexicanStar.rename('Mexican'), chineseStar.rename('Chinese')],axis=1).plot.bar(rot=0, figsize=(20,10))\n",
    "\n",
    "bruh = pd.concat([indianStar.rename('Indian'), thaiStar.rename('Thai'), italianStar.rename('Italian'),\n",
    "          mexicanStar.rename('Mexican'), chineseStar.rename('Chinese')])\n",
    "print(bruh)\n",
    "                 \n",
    "                 \n",
    "star_graph.set_xlabel(\"Stars\")\n",
    "star_graph.set_ylabel(\"Percentage\")"
   ]
  },
  {
   "cell_type": "code",
   "execution_count": null,
   "metadata": {},
   "outputs": [],
   "source": [
    "isOpen = merged[merged['is_open'] == 1]\n",
    "isClosed = merged[merged['is_open'] == 0]\n",
    "openStars = isOpen['stars_y'].value_counts()\n",
    "openStarsRank = (openStars/(len(isOpen)))*100\n",
    "closedStars = isClosed['stars_y'].value_counts()\n",
    "closedStarsRank = (closedStars/(len(isClosed)))*100\n",
    "\n",
    "import matplotlib.pyplot as plt\n",
    "\n",
    "print(openStarsRank)\n",
    "print(len(isOpen))\n",
    "print(closedStarsRank)\n",
    "print(len(isClosed))\n",
    "print(merged[['is_open']])\n",
    "op = merged[['is_open']]\n",
    "\n",
    "total = len(op)\n",
    "is_one = len(op[op['is_open'] == 1])\n",
    "is_zero = len(op[op['is_open'] == 0])\n",
    "\n",
    "data = [is_one/total, is_zero/total]\n",
    "\n",
    "labels = ['is open', 'is not open']\n",
    "\n",
    "print((is_one/total)*100)\n",
    "print((is_zero/total)*100)\n",
    "\n",
    "\n",
    "plt.pie(data, labels = labels, colors = ('lavender','cornsilk'), \n",
    "        wedgeprops={\"linewidth\": 1, \"edgecolor\": \"black\", 'antialiased': True})\n",
    "plt.show()\n",
    "\n",
    "\n",
    "#thing = merged.groupby(['is_open']).plot(kind='pie', subplots = True, figsize=(5, 5))\n"
   ]
  },
  {
   "cell_type": "code",
   "execution_count": null,
   "metadata": {
    "tags": []
   },
   "outputs": [],
   "source": [
    "import numpy as np\n",
    "from scipy import stats\n",
    "\n",
    "### chinese ci \n",
    "cStar = chinese['stars_y']\n",
    "mu = np.mean(cStar)\n",
    "sigma = np.std(cStar)\n",
    "n = chinese.shape[0]\n",
    "\n",
    "c_ci = stats.norm.interval(alpha=.95, loc=mu, scale = sigma/np.sqrt(n))\n",
    "print(\"Chinese restaurant mean confidence interval:\", c_ci)\n",
    "\n",
    "### thai ci \n",
    "tStar = thai['stars_y']\n",
    "mu2 = np.mean(tStar)\n",
    "sigma2 = np.std(tStar)\n",
    "n2 = thai.shape[0]\n",
    "\n",
    "t_ci = stats.norm.interval(alpha=.95, loc=mu2, scale = sigma2/np.sqrt(n2))\n",
    "print(\"Thai restaurant mean confidence interval:\", t_ci)\n",
    "\n",
    "### italian ci \n",
    "itStar = italian['stars_y']\n",
    "mu3 = np.mean(cStar)\n",
    "sigma3 = np.std(cStar)\n",
    "n3 = italian.shape[0]\n",
    "\n",
    "it_ci = stats.norm.interval(alpha=.95, loc=mu3, scale = sigma3/np.sqrt(n3))\n",
    "print(\"Italian restaurant mean confidence interval:\", it_ci)\n",
    "\n",
    "### indian ci\n",
    "inStar = indian['stars_y']\n",
    "mu4 = np.mean(cStar)\n",
    "sigma4 = np.std(cStar)\n",
    "n4 = indian.shape[0]\n",
    "\n",
    "in_ci = stats.norm.interval(alpha=.95, loc=mu4, scale = sigma4/np.sqrt(n4))\n",
    "print(\"Indian restaurant mean confidence interval:\", in_ci)\n",
    "\n",
    "### mexican ci \n",
    "mStar = mexican['stars_y']\n",
    "mu5 = np.mean(cStar)\n",
    "sigma5 = np.std(cStar)\n",
    "n5 = mexican.shape[0]\n",
    "\n",
    "m_ci = stats.norm.interval(alpha=.95, loc=mu5, scale = sigma5/np.sqrt(n5))\n",
    "print(\"Mexican restaurant mean confidence interval:\", m_ci)"
   ]
  }
 ],
 "metadata": {
  "kernelspec": {
   "display_name": "Python 3 (ipykernel)",
   "language": "python",
   "name": "python3"
  },
  "language_info": {
   "codemirror_mode": {
    "name": "ipython",
    "version": 3
   },
   "file_extension": ".py",
   "mimetype": "text/x-python",
   "name": "python",
   "nbconvert_exporter": "python",
   "pygments_lexer": "ipython3",
   "version": "3.9.12"
  },
  "otter": {
   "OK_FORMAT": true,
   "tests": {
    "q1": {
     "name": "q1",
     "points": [
      1,
      1,
      1,
      1,
      2,
      2,
      1,
      1,
      1,
      1
     ],
     "suites": [
      {
       "cases": [
        {
         "code": ">>> isinstance(q1_1_1, str)\nTrue",
         "hidden": false,
         "locked": false
        },
        {
         "code": ">>> import numpy\n>>> isinstance(q1_1_2, int) or isinstance(q1_1_2, numpy.int64)\nTrue",
         "hidden": false,
         "locked": false
        },
        {
         "code": ">>> from auto_checks import check_q1_1_1\n>>> check_q1_1_1(q1_1_1)\n'PASS'",
         "hidden": false,
         "locked": false
        },
        {
         "code": ">>> from auto_checks import check_q1_1_2\n>>> check_q1_1_2(q1_1_2)\n'PASS'",
         "hidden": false,
         "locked": false
        },
        {
         "code": ">>> import numpy\n>>> isinstance(q1_2, int) or isinstance(q1_2, numpy.int64)\nTrue",
         "hidden": false,
         "locked": false
        },
        {
         "code": ">>> from auto_checks import check_q1_2\n>>> check_q1_2(q1_2)\n'PASS'",
         "hidden": false,
         "locked": false
        },
        {
         "code": ">>> import pandas\n>>> isinstance(q1_3, pandas.core.series.Series)\nTrue",
         "hidden": false,
         "locked": false
        },
        {
         "code": ">>> q1_3.shape\n(5,)",
         "hidden": false,
         "locked": false
        },
        {
         "code": ">>> from auto_checks import check_q1_3_province\n>>> check_q1_3_province(q1_3)\n'PASS'",
         "hidden": false,
         "locked": false
        },
        {
         "code": ">>> from auto_checks import check_q1_3_death\n>>> check_q1_3_death(q1_3)\n'PASS'",
         "hidden": false,
         "locked": false
        }
       ],
       "scored": true,
       "setup": "",
       "teardown": "",
       "type": "doctest"
      }
     ]
    },
    "q2": {
     "name": "q2",
     "points": [
      1,
      1,
      1,
      1,
      1,
      1
     ],
     "suites": [
      {
       "cases": [
        {
         "code": ">>> import pandas\n>>> isinstance(q2_1, pandas.core.series.Series)\nTrue",
         "hidden": false,
         "locked": false
        },
        {
         "code": ">>> q2_1.shape\n(5,)",
         "hidden": false,
         "locked": false
        },
        {
         "code": ">>> from auto_checks import check_q2_1_state\n>>> check_q2_1_state(q2_1)\n'PASS'",
         "hidden": false,
         "locked": false
        },
        {
         "code": ">>> from auto_checks import check_q2_1_date\n>>> check_q2_1_date(q2_1)\n'PASS'",
         "hidden": false,
         "locked": false
        },
        {
         "code": ">>> import pandas\n>>> isinstance(q2_2, pandas.core.series.Series)\nTrue",
         "hidden": false,
         "locked": false
        },
        {
         "code": ">>> q2_2.shape\n(364,)",
         "hidden": false,
         "locked": false
        }
       ],
       "scored": true,
       "setup": "",
       "teardown": "",
       "type": "doctest"
      }
     ]
    },
    "q3": {
     "name": "q3",
     "points": [
      1,
      1,
      1,
      1,
      1,
      1,
      1,
      1
     ],
     "suites": [
      {
       "cases": [
        {
         "code": ">>> import pandas\n>>> isinstance(q3_1, pandas.core.frame.DataFrame)\nTrue",
         "hidden": false,
         "locked": false
        },
        {
         "code": ">>> q3_1.shape\n(5, 2)",
         "hidden": false,
         "locked": false
        },
        {
         "code": ">>> print(q3_1.index.name, sorted(q3_1.columns))\nrating ['F', 'M']\n",
         "hidden": false,
         "locked": false
        },
        {
         "code": ">>> from auto_checks import check_q3_1\n>>> check_q3_1(q3_1)\n'PASS'",
         "hidden": false,
         "locked": false
        },
        {
         "code": ">>> import pandas\n>>> isinstance(q3_2, pandas.core.frame.DataFrame)\nTrue",
         "hidden": false,
         "locked": false
        },
        {
         "code": ">>> q3_2.shape\n(7, 2)",
         "hidden": false,
         "locked": false
        },
        {
         "code": ">>> print(q3_2.index.name, sorted(q3_2.columns))\ndecade ['F', 'M']\n",
         "hidden": false,
         "locked": false
        },
        {
         "code": ">>> from auto_checks import check_q3_2\n>>> check_q3_2(q3_2)\n'PASS'",
         "hidden": false,
         "locked": false
        }
       ],
       "scored": true,
       "setup": "",
       "teardown": "",
       "type": "doctest"
      }
     ]
    },
    "q4": {
     "name": "q4",
     "points": [
      1,
      1,
      1,
      2,
      1,
      1,
      1,
      1,
      1,
      1,
      1,
      1
     ],
     "suites": [
      {
       "cases": [
        {
         "code": ">>> q4_0\n100000",
         "hidden": false,
         "locked": false
        },
        {
         "code": ">>> import numpy\n>>> isinstance(q4_1, float) or isinstance(q4_1, numpy.float64)\nTrue",
         "hidden": false,
         "locked": false
        },
        {
         "code": ">>> 0 <= q4_1 <= 1\nTrue",
         "hidden": false,
         "locked": false
        },
        {
         "code": ">>> from auto_checks import check_q4_1\n>>> check_q4_1(q4_1)\n'PASS'",
         "hidden": false,
         "locked": false
        },
        {
         "code": ">>> import pandas\n>>> isinstance(q4_2, pandas.core.series.Series)\nTrue",
         "hidden": false,
         "locked": false
        },
        {
         "code": ">>> q4_2.shape\n(5,)",
         "hidden": false,
         "locked": false
        },
        {
         "code": ">>> from auto_checks import check_q4_2_index\n>>> check_q4_2_index(q4_2)\n'PASS'",
         "hidden": false,
         "locked": false
        },
        {
         "code": ">>> from auto_checks import check_q4_2_rating\n>>> check_q4_2_rating(q4_2)\n'PASS'",
         "hidden": false,
         "locked": false
        },
        {
         "code": ">>> import pandas\n>>> isinstance(q4_3, pandas.core.series.Series)\nTrue",
         "hidden": false,
         "locked": false
        },
        {
         "code": ">>> q4_3.shape\n(5,)",
         "hidden": false,
         "locked": false
        },
        {
         "code": ">>> from auto_checks import check_q4_3_index\n>>> check_q4_3_index(q4_3)\n'PASS'",
         "hidden": false,
         "locked": false
        },
        {
         "code": ">>> from auto_checks import check_q4_3_rating\n>>> check_q4_3_rating(q4_3)\n'PASS'",
         "hidden": false,
         "locked": false
        }
       ],
       "scored": true,
       "setup": "",
       "teardown": "",
       "type": "doctest"
      }
     ]
    }
   }
  }
 },
 "nbformat": 4,
 "nbformat_minor": 4
}
